{
 "cells": [
  {
   "cell_type": "code",
   "execution_count": 2,
   "id": "328920aa-b499-4df2-ba63-ef6045e3028d",
   "metadata": {},
   "outputs": [
    {
     "name": "stdout",
     "output_type": "stream",
     "text": [
      "[7, 6, 5, 3, 2.4, 2, 1]\n",
      "[5, 3, 2.4]\n",
      "['a', 7, 6, 'b', 5, 'c', 3, 2.4, 2, 1]\n"
     ]
    }
   ],
   "source": [
    "x=[1,2,2.4,3,5,7,6]\n",
    "x.sort(reverse=True)\n",
    "print(x)\n",
    "print(x[2:5])\n",
    "x.insert(0,\"a\")\n",
    "x.insert(3,\"b\")\n",
    "x.insert(5,\"c\")\n",
    "print(x)"
   ]
  },
  {
   "cell_type": "markdown",
   "id": "4c8468e2-c62f-4746-bc5e-81bd28ea13ce",
   "metadata": {},
   "source": [
    "## create a dictionary. ask user to enter the number of members in the dict and then assign key and value"
   ]
  },
  {
   "cell_type": "markdown",
   "id": "70dcc20e-11c0-47cf-8fae-79eaabc1eed3",
   "metadata": {},
   "source": [
    "## create an interface with username and password. Ask user to input username and password\n",
    "    match the username and then password\n",
    "    provide 3 attempts to the user after which it says \"the site is blocked\"\n"
   ]
  }
 ],
 "metadata": {
  "kernelspec": {
   "display_name": "Python",
   "language": "python",
   "name": "conda-env-python-py"
  },
  "language_info": {
   "codemirror_mode": {
    "name": "ipython",
    "version": 3
   },
   "file_extension": ".py",
   "mimetype": "text/x-python",
   "name": "python",
   "nbconvert_exporter": "python",
   "pygments_lexer": "ipython3",
   "version": "3.6.13"
  }
 },
 "nbformat": 4,
 "nbformat_minor": 5
}

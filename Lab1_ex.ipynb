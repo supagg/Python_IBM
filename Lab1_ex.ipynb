{
 "cells": [
  {
   "cell_type": "markdown",
   "id": "69ee967b-ff89-4b1c-94dd-b6ae6fb44815",
   "metadata": {},
   "source": [
    "\n",
    "## Q1: User input a string \"A\" having with length 10"
   ]
  },
  {
   "cell_type": "code",
   "execution_count": 2,
   "id": "3968668c-1773-45bb-8fc0-ee20900c0a85",
   "metadata": {},
   "outputs": [
    {
     "name": "stdin",
     "output_type": "stream",
     "text": [
      "enter a string of lenth 10:  abcd\n"
     ]
    },
    {
     "name": "stdout",
     "output_type": "stream",
     "text": [
      "abcd\n",
      "Strint length not equal to 10\n"
     ]
    }
   ],
   "source": [
    "a = input(\"enter a string of lenth 10: \")\n",
    "print(a)\n",
    "if len(a)!=10:\n",
    "    print(\"Strint length not equal to 10\")"
   ]
  },
  {
   "cell_type": "markdown",
   "id": "88ac97cd-0beb-43b0-9f16-529c94af197e",
   "metadata": {},
   "source": [
    "## Q2: Create script to input two numbers x and y with following instruction:add when user select 1, sub on 2, mul on 3, div 4 and power on 5(give options to select x^y or y^x)"
   ]
  },
  {
   "cell_type": "code",
   "execution_count": 4,
   "id": "9c7b0330-e232-45d5-93d9-c3d7c56cc96b",
   "metadata": {},
   "outputs": [
    {
     "name": "stdin",
     "output_type": "stream",
     "text": [
      "enter a number x :  6\n",
      "enter a number y :  5\n"
     ]
    },
    {
     "name": "stdout",
     "output_type": "stream",
     "text": [
      "Enter 1:add , 2:sub, 3:mul, 4:div and 5:exp\n"
     ]
    },
    {
     "name": "stdin",
     "output_type": "stream",
     "text": [
      "enter user choice :  6\n"
     ]
    },
    {
     "name": "stdout",
     "output_type": "stream",
     "text": [
      "wrong choice\n"
     ]
    }
   ],
   "source": [
    "x = int(input(\"enter a number x : \"))\n",
    "y = int(input(\"enter a number y : \"))\n",
    "print(\"Enter 1:add , 2:sub, 3:mul, 4:div and 5:exp\")\n",
    "c = input(\"enter user choice : \")\n",
    "if c==\"1\":\n",
    "    print(x+y)\n",
    "elif c==\"2\":\n",
    "    print(x-y)\n",
    "elif c==\"3\":\n",
    "    print(x*y)\n",
    "elif c==\"4\":\n",
    "    print(x/y)\n",
    "elif c==\"5\":\n",
    "    print(x**y)\n",
    "else:\n",
    "    print(\"wrong choice\")"
   ]
  },
  {
   "cell_type": "markdown",
   "id": "c6ebd901-18d2-4da7-94a9-38c1223e6bfe",
   "metadata": {},
   "source": [
    "## Q3: create a x tuple of size 6 and type cast it into list and stored result in variable b * in b insert a member at 2nd position"
   ]
  },
  {
   "cell_type": "code",
   "execution_count": null,
   "id": "eddbb626-3b71-4ce6-a18e-0d9c6773eb19",
   "metadata": {},
   "outputs": [],
   "source": []
  }
 ],
 "metadata": {
  "kernelspec": {
   "display_name": "Python",
   "language": "python",
   "name": "conda-env-python-py"
  },
  "language_info": {
   "codemirror_mode": {
    "name": "ipython",
    "version": 3
   },
   "file_extension": ".py",
   "mimetype": "text/x-python",
   "name": "python",
   "nbconvert_exporter": "python",
   "pygments_lexer": "ipython3",
   "version": "3.6.13"
  }
 },
 "nbformat": 4,
 "nbformat_minor": 5
}
